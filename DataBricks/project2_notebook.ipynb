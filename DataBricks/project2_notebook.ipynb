{
 "cells": [
  {
   "cell_type": "code",
   "execution_count": 0,
   "metadata": {
    "application/vnd.databricks.v1+cell": {
     "cellMetadata": {
      "byteLimit": 2048000,
      "rowLimit": 10000
     },
     "inputWidgets": {},
     "nuid": "8ff44b68-c479-403e-9714-8d0a9f18a363",
     "showTitle": false,
     "tableResultSettingsMap": {},
     "title": ""
    }
   },
   "outputs": [
    {
     "output_type": "stream",
     "name": "stdout",
     "output_type": "stream",
     "text": [
      "Product\n"
     ]
    }
   ],
   "source": [
    "#get the file name from the ADF\n",
    "fileName = dbutils.widgets.get('fileName')\n",
    "#fileName = 'Product.csv'\n",
    "#splitting the filename with '.' and getting the first word of the file\n",
    "fileNameWithoutExt = fileName.split('.')[0]\n",
    "print(fileNameWithoutExt)"
   ]
  },
  {
   "cell_type": "code",
   "execution_count": 0,
   "metadata": {
    "application/vnd.databricks.v1+cell": {
     "cellMetadata": {
      "byteLimit": 2048000,
      "rowLimit": 10000
     },
     "inputWidgets": {},
     "nuid": "61fb15b7-a26e-4ebb-bf17-0b7d296767c1",
     "showTitle": false,
     "tableResultSettingsMap": {},
     "title": ""
    }
   },
   "outputs": [],
   "source": [
    "from pyspark.sql.functions import *\n",
    "from pyspark.sql import functions as F\n",
    "from datetime import datetime as dt\n",
    "\n",
    "#change all values based on the azure credentials\n",
    "sqlDbName = 'sql_sample'\n",
    "dbUserName = 'vignan'\n",
    "passwordKey = 'dbServerPassword'\n",
    "stgAccountSAStokenKey = 'project2SAStoken'\n",
    "landingFileName = fileName\n",
    "databricksScopeName = 'scope_secondary'\n",
    "dbServer = 'key'\n",
    "dbServerPortNumber = '1433'\n",
    "storageContainer = 'project2landing'\n",
    "storageAccount = 'practiceprojects'\n",
    "landingMountPoint = '/mnt'"
   ]
  },
  {
   "cell_type": "code",
   "execution_count": 0,
   "metadata": {
    "application/vnd.databricks.v1+cell": {
     "cellMetadata": {
      "byteLimit": 2048000,
      "rowLimit": 10000
     },
     "inputWidgets": {},
     "nuid": "e06a565a-e947-428d-978b-c667af4d998f",
     "showTitle": false,
     "tableResultSettingsMap": {},
     "title": ""
    }
   },
   "outputs": [
    {
     "output_type": "stream",
     "name": "stdout",
     "output_type": "stream",
     "text": [
      "Already mounted\n"
     ]
    }
   ],
   "source": [
    "#mounting\n",
    "if not any(mount.mountPoint == landingMountPoint for mount in dbutils.fs.mounts()):\n",
    "    dbutils.fs.mount(source='wasbs://{}@{}.blob.core.windows.net'.format(storageContainer, storageAccount), mount_point=landingMountPoint, extra_configs={'fs.azure.sas.{}.{}.blob.core.windows.net'.format(storageContainer,storageAccount):dbutils.secrets.get(scope=databricksScopeName, key=stgAccountSAStokenKey)})\n",
    "    print('Mounted Successfully')\n",
    "else:\n",
    "    print('Already mounted')"
   ]
  },
  {
   "cell_type": "code",
   "execution_count": 0,
   "metadata": {
    "application/vnd.databricks.v1+cell": {
     "cellMetadata": {
      "byteLimit": 2048000,
      "rowLimit": 10000
     },
     "inputWidgets": {},
     "nuid": "1c3d4d33-fa14-4426-95e8-7b4715cb92c3",
     "showTitle": false,
     "tableResultSettingsMap": {},
     "title": ""
    }
   },
   "outputs": [
    {
     "output_type": "display_data",
     "data": {
      "text/html": [
       "<style scoped>\n",
       "  .table-result-container {\n",
       "    max-height: 300px;\n",
       "    overflow: auto;\n",
       "  }\n",
       "  table, th, td {\n",
       "    border: 1px solid black;\n",
       "    border-collapse: collapse;\n",
       "  }\n",
       "  th, td {\n",
       "    padding: 5px;\n",
       "  }\n",
       "  th {\n",
       "    text-align: left;\n",
       "  }\n",
       "</style><div class='table-result-container'><table class='table-result'><thead style='background-color: white'><tr><th>FileNo</th><th>FileName</th><th>ColumnName</th><th>ColumnDateFormat</th><th>ColumnIsNull</th><th>ModifiedDate</th></tr></thead><tbody><tr><td>1</td><td>Product</td><td>StartDate</td><td>MM-dd-yyyy</td><td>true</td><td>2012-06-18T22:34:09Z</td></tr><tr><td>1</td><td>Product</td><td>EndDate</td><td>MM/dd/yyyy</td><td>true</td><td>2012-06-18T22:34:09Z</td></tr><tr><td>1</td><td>Product</td><td>CreateDate</td><td>MM/dd/yyyy</td><td>true</td><td>2012-06-18T22:34:09Z</td></tr><tr><td>1</td><td>Product</td><td>ModifiedDate</td><td>MM/dd/yyyy</td><td>true</td><td>2012-06-18T22:34:09Z</td></tr><tr><td>2</td><td>ProductDescription</td><td>ModifiedDate</td><td>MM/dd/yyyy</td><td>true</td><td>2012-06-18T22:34:09Z</td></tr><tr><td>2</td><td>ProductDescription</td><td>StartDate</td><td>MM/dd/yyyy</td><td>true</td><td>2012-06-18T22:34:09Z</td></tr><tr><td>2</td><td>ProductDescription</td><td>EndDate</td><td>MM/dd/yyyy</td><td>true</td><td>2012-06-18T22:34:09Z</td></tr><tr><td>3</td><td>CustomerDetail</td><td>CreateDate</td><td>MM/dd/yyyy</td><td>true</td><td>2012-06-18T22:34:09Z</td></tr><tr><td>3</td><td>CustomerDetail</td><td>ActiveDate</td><td>MM/dd/yyyy</td><td>true</td><td>2012-06-18T22:34:09Z</td></tr></tbody></table></div>"
      ]
     },
     "metadata": {
      "application/vnd.databricks.v1+output": {
       "addedWidgets": {},
       "aggData": [],
       "aggError": "",
       "aggOverflow": false,
       "aggSchema": [],
       "aggSeriesLimitReached": false,
       "aggType": "",
       "arguments": {},
       "columnCustomDisplayInfos": {},
       "data": [
        [
         1,
         "Product",
         "StartDate",
         "MM-dd-yyyy",
         "true",
         "2012-06-18T22:34:09Z"
        ],
        [
         1,
         "Product",
         "EndDate",
         "MM/dd/yyyy",
         "true",
         "2012-06-18T22:34:09Z"
        ],
        [
         1,
         "Product",
         "CreateDate",
         "MM/dd/yyyy",
         "true",
         "2012-06-18T22:34:09Z"
        ],
        [
         1,
         "Product",
         "ModifiedDate",
         "MM/dd/yyyy",
         "true",
         "2012-06-18T22:34:09Z"
        ],
        [
         2,
         "ProductDescription",
         "ModifiedDate",
         "MM/dd/yyyy",
         "true",
         "2012-06-18T22:34:09Z"
        ],
        [
         2,
         "ProductDescription",
         "StartDate",
         "MM/dd/yyyy",
         "true",
         "2012-06-18T22:34:09Z"
        ],
        [
         2,
         "ProductDescription",
         "EndDate",
         "MM/dd/yyyy",
         "true",
         "2012-06-18T22:34:09Z"
        ],
        [
         3,
         "CustomerDetail",
         "CreateDate",
         "MM/dd/yyyy",
         "true",
         "2012-06-18T22:34:09Z"
        ],
        [
         3,
         "CustomerDetail",
         "ActiveDate",
         "MM/dd/yyyy",
         "true",
         "2012-06-18T22:34:09Z"
        ]
       ],
       "datasetInfos": [],
       "dbfsResultPath": null,
       "isJsonSchema": true,
       "metadata": {},
       "overflow": false,
       "plotOptions": {
        "customPlotOptions": {},
        "displayType": "table",
        "pivotAggregation": null,
        "pivotColumns": null,
        "xColumns": null,
        "yColumns": null
       },
       "removedWidgets": [],
       "schema": [
        {
         "metadata": "{\"isTimestampNTZ\":false,\"signed\":true,\"scale\":0}",
         "name": "FileNo",
         "type": "\"integer\""
        },
        {
         "metadata": "{\"isTimestampNTZ\":false,\"signed\":false,\"scale\":0}",
         "name": "FileName",
         "type": "\"string\""
        },
        {
         "metadata": "{\"isTimestampNTZ\":false,\"signed\":false,\"scale\":0}",
         "name": "ColumnName",
         "type": "\"string\""
        },
        {
         "metadata": "{\"isTimestampNTZ\":false,\"signed\":false,\"scale\":0}",
         "name": "ColumnDateFormat",
         "type": "\"string\""
        },
        {
         "metadata": "{\"isTimestampNTZ\":false,\"signed\":false,\"scale\":0}",
         "name": "ColumnIsNull",
         "type": "\"string\""
        },
        {
         "metadata": "{\"isTimestampNTZ\":false,\"signed\":false,\"scale\":3}",
         "name": "ModifiedDate",
         "type": "\"timestamp\""
        }
       ],
       "type": "table"
      }
     },
     "output_type": "display_data"
    }
   ],
   "source": [
    "#connecting to azure sql db\n",
    "dbPassword = dbutils.secrets.get(scope= databricksScopeName, key = passwordKey)\n",
    "serverurl = 'jdbc:sqlserver://{}.database.windows.net:{};database={};user={};'.format(dbServer, dbServerPortNumber, sqlDbName, dbUserName)\n",
    "connectionProperties = {'password': dbPassword, 'driver': 'com.microsoft.sqlserver.jdbc.SQLServerDriver'}\n",
    "df = spark.read.jdbc(url=serverurl, table = 'dbo.FileDetailsFormat', properties = connectionProperties)\n",
    "display(df)\n"
   ]
  },
  {
   "cell_type": "code",
   "execution_count": 0,
   "metadata": {
    "application/vnd.databricks.v1+cell": {
     "cellMetadata": {
      "byteLimit": 2048000,
      "rowLimit": 10000
     },
     "inputWidgets": {},
     "nuid": "c25a7bda-c64b-4d75-8625-c9bd439be814",
     "showTitle": false,
     "tableResultSettingsMap": {},
     "title": ""
    }
   },
   "outputs": [],
   "source": [
    "df1 = spark.read.csv('/mnt/landing/'+fileName, header=True, inferSchema=True)\n",
    "display(df1)\n",
    "\n",
    "#rule\n",
    "errorFlag = False\n",
    "errorMessage = ''\n",
    "totalCount = df1.count()\n",
    "print(totalCount)\n",
    "distinctCount = df1.distinct().count()\n",
    "print(distinctCount)\n",
    "if distinctCount != totalCount:\n",
    "    errorFlag = True\n",
    "    errorMessage = 'Duplications found in the file. Rule 1 Failed'\n",
    "print(errorMessage)\n",
    "\n",
    "#Rule2\n",
    "df2 = df.filter(df.FileName == fileNameWithoutExt).select('ColumnName','ColumnDateFormat')\n",
    "rows = df2.collect()\n",
    "for r in rows:\n",
    "    colName = r[0]\n",
    "    colFormat = r[1]\n",
    "    #display(df1.filter(F.to_date(colName, colFormat).isNull()==True))\n",
    "    formatCount = df1.filter(F.to_date(colName, colFormat).isNotNull()==True).count()\n",
    "    print(formatCount)\n",
    "    if formatCount == totalCount:\n",
    "        errorFlag = True\n",
    "        errorMessage = errorMessage + 'DateFormat is incorrect for {} '.format(colName)\n",
    "    else:\n",
    "        print('All rows are good for column '+ str(colName))\n",
    "print(totalCount,formatCount)\n",
    "print(errorMessage)\n",
    "\n",
    "\n",
    "if errorFlag:\n",
    "    dbutils.fs.mv('/mnt/landing/'+fileName, '/mnt/rejected/'+fileName)\n",
    "    dbutils.notebook.exit('{\"errorFlag\":\"true\", \"errorMessage\":\"'+errorMessage+'\",\"totalCount\":\"'+str(totalCount)+'\",\"formatCount\":\"'+str(formatCount)+'\"}')\n",
    "else:\n",
    "    dbutils.fs.mv('/mnt/landing/'+fileName, '/mnt/staging/'+fileName)\n",
    "    dbutils.notebook.exit('{\"errorFlag\":\"false\", \"errorMessage\":\"No errors found\"}')\n"
   ]
  },
  {
   "cell_type": "code",
   "execution_count": 0,
   "metadata": {
    "application/vnd.databricks.v1+cell": {
     "cellMetadata": {},
     "inputWidgets": {},
     "nuid": "eaee4449-57f7-479f-aac9-d3a69fb25265",
     "showTitle": false,
     "tableResultSettingsMap": {},
     "title": ""
    }
   },
   "outputs": [],
   "source": []
  }
 ],
 "metadata": {
  "application/vnd.databricks.v1+notebook": {
   "computePreferences": null,
   "dashboards": [],
   "environmentMetadata": {
    "base_environment": "",
    "client": "1"
   },
   "language": "python",
   "notebookMetadata": {
    "pythonIndentUnit": 4
   },
   "notebookName": "project2_notebook",
   "widgets": {}
  },
  "language_info": {
   "name": "python"
  }
 },
 "nbformat": 4,
 "nbformat_minor": 0
}